{
 "cells": [
  {
   "cell_type": "code",
   "execution_count": 5,
   "metadata": {},
   "outputs": [
    {
     "data": {
      "text/plain": [
       "True"
      ]
     },
     "execution_count": 5,
     "metadata": {},
     "output_type": "execute_result"
    }
   ],
   "source": [
    "import google.generativeai as genai\n",
    "from dotenv import load_dotenv\n",
    "\n",
    "import os\n",
    "\n",
    "load_dotenv()"
   ]
  },
  {
   "cell_type": "code",
   "execution_count": 6,
   "metadata": {},
   "outputs": [],
   "source": [
    "SEC_KEY = os.getenv('GOOGLE_GEMINI_API')"
   ]
  },
  {
   "cell_type": "code",
   "execution_count": 8,
   "metadata": {},
   "outputs": [],
   "source": [
    "genai.configure(api_key=SEC_KEY)"
   ]
  },
  {
   "cell_type": "code",
   "execution_count": 13,
   "metadata": {},
   "outputs": [],
   "source": [
    "model = genai.GenerativeModel('gemini-1.5-pro-latest')"
   ]
  },
  {
   "cell_type": "code",
   "execution_count": 14,
   "metadata": {},
   "outputs": [],
   "source": [
    "response = model.generate_content('what is the meaning of life?')"
   ]
  },
  {
   "cell_type": "code",
   "execution_count": 16,
   "metadata": {},
   "outputs": [
    {
     "data": {
      "text/plain": [
       "\"The meaning of life is a question that has plagued philosophers and individuals for centuries. There's no single, universally accepted answer.  It's a deeply personal and often evolving concept.  Here are some perspectives:\\n\\n* **Nihilism:**  Life has no inherent meaning or purpose.  Meaning is an illusion.\\n* **Existentialism:**  Life has no pre-ordained meaning. We are free to create our own meaning and purpose through our choices and actions.\\n* **Absurdism:** The search for meaning in a meaningless universe is inherently absurd, but we should embrace this absurdity and live authentically.\\n* **Hedonism:** The purpose of life is to maximize pleasure and minimize pain.\\n* **Utilitarianism:** The purpose of life is to maximize happiness and well-being for the greatest number of people.\\n* **Stoicism:**  The purpose of life is to live in accordance with nature and virtue, accepting what we cannot control and focusing on what we can.\\n* **Purpose through creation:**  Finding meaning through creating art, building businesses, writing, raising families, etc.\\n* **Purpose through connection:** Finding meaning through relationships with others, community involvement, and love.\\n* **Purpose through contribution:** Finding meaning through service to others, volunteering, and making a positive impact on the world.\\n* **Spiritual/Religious perspectives:** Many religions offer answers about the meaning of life, often involving a divine being, an afterlife, and a set of moral principles.\\n\\n\\nUltimately, the meaning of life is what you make it. It's up to each individual to define their own purpose and find what gives their life meaning. This can involve exploring different philosophies, engaging with the world around them, and reflecting on their values and experiences.  It's a lifelong journey of discovery.\\n\""
      ]
     },
     "execution_count": 16,
     "metadata": {},
     "output_type": "execute_result"
    }
   ],
   "source": [
    "response.text"
   ]
  },
  {
   "cell_type": "code",
   "execution_count": null,
   "metadata": {},
   "outputs": [],
   "source": []
  }
 ],
 "metadata": {
  "kernelspec": {
   "display_name": "base",
   "language": "python",
   "name": "python3"
  },
  "language_info": {
   "codemirror_mode": {
    "name": "ipython",
    "version": 3
   },
   "file_extension": ".py",
   "mimetype": "text/x-python",
   "name": "python",
   "nbconvert_exporter": "python",
   "pygments_lexer": "ipython3",
   "version": "3.12.7"
  }
 },
 "nbformat": 4,
 "nbformat_minor": 2
}
